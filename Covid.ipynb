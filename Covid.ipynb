{
  "cells": [
    {
      "metadata": {
        "trusted": true
      },
      "cell_type": "code",
      "source": "#load \"Paket.fsx\"",
      "execution_count": 8,
      "outputs": []
    },
    {
      "metadata": {
        "trusted": true
      },
      "cell_type": "code",
      "source": "Paket.Package\n[\n   \"Newtonsoft.Json\"\n]",
      "execution_count": 9,
      "outputs": [
        {
          "output_type": "execute_result",
          "execution_count": 9,
          "data": {
            "text/plain": "[\"Newtonsoft.Json\"]"
          },
          "metadata": {}
        }
      ]
    },
    {
      "metadata": {
        "trusted": true
      },
      "cell_type": "code",
      "source": "Paket.LoadingScripts.ScriptGeneration.generateScriptsForRootFolder \n   Paket.LoadingScripts.ScriptGeneration.FSharp\n   (Paket.FrameworkIdentifier.DotNetFramework Paket.FrameworkVersion.V4_5)\n   (System.IO.DirectoryInfo __SOURCE_DIRECTORY__)",
      "execution_count": 11,
      "outputs": [
        {
          "output_type": "stream",
          "text": "The value, constructor, namespace or type 'generateScriptsForRootFolder' is not defined. Maybe you want one of the following:\n   generateScriptContent\n   generateScript\n   Generate",
          "name": "stderr"
        }
      ]
    },
    {
      "metadata": {
        "trusted": true
      },
      "cell_type": "code",
      "source": "#load \"paket-files/include-scripts/net45/include.main.group.fsx\"",
      "execution_count": 12,
      "outputs": [
        {
          "output_type": "stream",
          "text": "Unable to find the file 'paket-files/include-scripts/net45/include.main.group.fsx' in any of\n /home/nbuser/IfSharp/bin\n /home/nbuser/library",
          "name": "stderr"
        }
      ]
    },
    {
      "metadata": {
        "trusted": true
      },
      "cell_type": "code",
      "source": "",
      "execution_count": null,
      "outputs": []
    }
  ],
  "metadata": {
    "kernelspec": {
      "name": "ifsharp",
      "display_name": "F#",
      "language": "fsharp"
    },
    "language_info": {
      "mimetype": "text/x-fsharp",
      "nbconvert_exporter": "",
      "name": "fsharp",
      "pygments_lexer": "",
      "version": "4.3.1.0",
      "file_extension": ".fs",
      "codemirror_mode": ""
    },
    "language": "fsharp"
  },
  "nbformat": 4,
  "nbformat_minor": 2
}